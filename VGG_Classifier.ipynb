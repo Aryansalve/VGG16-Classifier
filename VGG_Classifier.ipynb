{
  "cells": [
    {
      "cell_type": "markdown",
      "metadata": {
        "id": "view-in-github",
        "colab_type": "text"
      },
      "source": [
        "<a href=\"https://colab.research.google.com/github/Aryansalve/VGG16-Classifier/blob/main/VGG_Classifier.ipynb\" target=\"_parent\"><img src=\"https://colab.research.google.com/assets/colab-badge.svg\" alt=\"Open In Colab\"/></a>"
      ]
    },
    {
      "cell_type": "code",
      "execution_count": 1,
      "metadata": {
        "colab": {
          "base_uri": "https://localhost:8080/"
        },
        "id": "fD9K2pbFZI0N",
        "outputId": "3164e920-bf6a-42ce-95b3-4eaa38848ccf"
      },
      "outputs": [
        {
          "output_type": "stream",
          "name": "stdout",
          "text": [
            "Mounted at /content/gdrive\n"
          ]
        }
      ],
      "source": [
        "from google.colab import drive\n",
        "drive.mount(\"/content/gdrive\")"
      ]
    },
    {
      "cell_type": "code",
      "execution_count": 2,
      "metadata": {
        "id": "9mmWrpLXuszS"
      },
      "outputs": [],
      "source": [
        "import os\n",
        "import cv2\n",
        "from PIL import Image\n",
        "import tensorflow as tf\n",
        "from keras import backend as K\n",
        "from keras.models import load_model\n",
        "from tensorflow.keras.utils import img_to_array\n",
        "from tensorflow.keras.optimizers import Adam, RMSprop\n",
        "from tensorflow.keras.callbacks import ReduceLROnPlateau, ModelCheckpoint\n",
        "from tensorflow.keras.preprocessing.image import ImageDataGenerator"
      ]
    },
    {
      "cell_type": "code",
      "execution_count": 3,
      "metadata": {
        "colab": {
          "base_uri": "https://localhost:8080/"
        },
        "id": "S4nxCoYMvOwk",
        "outputId": "f020195e-771a-482b-ec74-8d5236872811"
      },
      "outputs": [
        {
          "output_type": "stream",
          "name": "stdout",
          "text": [
            "Done\n"
          ]
        }
      ],
      "source": [
        "#The python file and the archive have the same location\n",
        "from zipfile import ZipFile\n",
        "file_name = \"/content/gdrive/MyDrive/Classifier project/archive.zip\"\n",
        "with ZipFile(file_name,'r') as zip:\n",
        "  zip.extractall()\n",
        "  print('Done')"
      ]
    },
    {
      "cell_type": "code",
      "execution_count": 4,
      "metadata": {
        "id": "XLJZRjdV0FMz"
      },
      "outputs": [],
      "source": [
        "import pandas as pd\n",
        "import numpy as np\n",
        "import os\n",
        "from random import shuffle\n",
        "import shutil\n",
        "\n",
        "main_path='./output/bee-vs-wasp'\n",
        "training_path=main_path+'/training'\n",
        "testing_path=main_path+'/validation'\n",
        "bee_training=training_path+'/bee'\n",
        "wasp_training=training_path+'/wasp'\n",
        "other_insects_training=training_path+'/other_insects'\n",
        "other_noinsects_training=training_path+'/other_noinsects'\n",
        "bee_testing=testing_path+'/bee'\n",
        "wasp_testing=testing_path+'/wasp'\n",
        "other_insects_testing=testing_path+'/other_insects'\n",
        "other_noinsects_testing=testing_path+'/other_noinsects'\n",
        "def directory_creation(path):\n",
        "    os.mkdir(path)\n",
        "directory_creation('./output')\n",
        "directory_creation(main_path)\n",
        "directory_creation(training_path)\n",
        "directory_creation(testing_path)\n",
        "directory_creation(bee_training)\n",
        "directory_creation(wasp_training)\n",
        "directory_creation(other_insects_training)\n",
        "directory_creation(other_noinsects_training)\n",
        "directory_creation(bee_testing)\n",
        "directory_creation(wasp_testing)\n",
        "directory_creation(other_insects_testing)\n",
        "directory_creation(other_noinsects_testing)"
      ]
    },
    {
      "cell_type": "code",
      "execution_count": 5,
      "metadata": {
        "id": "aLxvIEcS2web"
      },
      "outputs": [],
      "source": [
        "def copy_files(original,dest_training,dest_testing):\n",
        "    l=os.listdir(original)\n",
        "    training_length=int(len(l)*0.8)\n",
        "    shuffle(l)\n",
        "    for i in range(len(l)):\n",
        "        if i<training_length:\n",
        "            shutil.copy(original+'/'+l[i],dest_training)\n",
        "        else:\n",
        "            shutil.copy(original+'/'+l[i],dest_testing)"
      ]
    },
    {
      "cell_type": "code",
      "execution_count": 6,
      "metadata": {
        "id": "Hra0fhIr2_MZ"
      },
      "outputs": [],
      "source": [
        "copy_files('/content/kaggle_bee_vs_wasp/bee1',bee_training,bee_testing)\n",
        "copy_files('/content/kaggle_bee_vs_wasp/bee2',bee_training,bee_testing)\n",
        "copy_files('/content/kaggle_bee_vs_wasp/wasp1',wasp_training,wasp_testing)\n",
        "copy_files('/content/kaggle_bee_vs_wasp/wasp2',wasp_training,wasp_testing)\n",
        "copy_files('/content/kaggle_bee_vs_wasp/other_insect',other_insects_training,other_insects_testing)\n",
        "copy_files('/content/kaggle_bee_vs_wasp/other_noinsect',other_noinsects_training,other_noinsects_testing)"
      ]
    },
    {
      "cell_type": "code",
      "execution_count": 7,
      "metadata": {
        "id": "86w5XNf6vIDm"
      },
      "outputs": [],
      "source": [
        "base_dir = '/content/output/bee-vs-wasp'\n",
        "train_dir = '/content/output/bee-vs-wasp/training'\n",
        "train_bee_dir = '/content/output/bee-vs-wasp/training/bee'\n",
        "train_wasp_dir = '/content/output/bee-vs-wasp/training/wasp'\n",
        "train_insect_dir = '/content/output/bee-vs-wasp/training/other_insects'\n",
        "train_other_dir = '/content/output/bee-vs-wasp/training/other_noinsects'\n",
        "test_dir = '/content/output/bee-vs-wasp/validation'\n",
        "test_bee_dir = '/content/output/bee-vs-wasp/validation/bee'\n",
        "test_wasp_dir = '/content/output/bee-vs-wasp/validation/wasp'\n",
        "test_insect_dir = '/content/output/bee-vs-wasp/validation/other_insects'\n",
        "test_other_dir = '/content/output/bee-vs-wasp/validation/other_noinsects'\n",
        "\n",
        "#no validation is used\n",
        "# valid_dir =\n",
        "# valid_bee_dir =\n",
        "# valid_malign_dir ="
      ]
    },
    {
      "cell_type": "code",
      "execution_count": 8,
      "metadata": {
        "id": "FIlkfmAf1d8G"
      },
      "outputs": [],
      "source": [
        "num_bee_train = len(os.listdir(train_bee_dir))\n",
        "num_wasp_train = len(os.listdir(train_wasp_dir))\n",
        "num_insect_train = len(os.listdir(train_insect_dir))\n",
        "num_other_train = len(os.listdir(train_other_dir))\n",
        "num_bee_test = len(os.listdir(test_bee_dir))\n",
        "num_wasp_test= len(os.listdir(test_wasp_dir))\n",
        "num_insect_test = len(os.listdir(test_insect_dir))\n",
        "num_other_test= len(os.listdir(test_other_dir))\n",
        "\n",
        "# num_bee_validaition = len(os.listdir(valid_bee_dir))\n",
        "# num_wasp_validation= len(os.listdir(valid_malign_dir))"
      ]
    },
    {
      "cell_type": "code",
      "execution_count": 9,
      "metadata": {
        "colab": {
          "base_uri": "https://localhost:8080/"
        },
        "id": "P5m9a8AY2kH3",
        "outputId": "d9ba000e-1be9-4036-8d44-b22a2f4a4523"
      },
      "outputs": [
        {
          "output_type": "stream",
          "name": "stdout",
          "text": [
            "Total Training bee Images 2546\n",
            "Total Training wasp Images 3953\n",
            "Total Training other Images 684\n",
            "Total Training insect Images 1951\n",
            "--\n",
            "Total Test bee Images 637\n",
            "Total Test wasp Images 990\n",
            "Total Test other Images 172\n",
            "Total Test insect Images 488\n",
            "--\n",
            "Total Training Images 9134\n",
            "Total Testing Images 2287\n"
          ]
        }
      ],
      "source": [
        "print(\"Total Training bee Images\",num_bee_train)\n",
        "print(\"Total Training wasp Images\",num_wasp_train)\n",
        "print(\"Total Training other Images\",num_other_train)\n",
        "print(\"Total Training insect Images\",num_insect_train)\n",
        "print(\"--\")\n",
        "print(\"Total Test bee Images\", num_bee_test)\n",
        "print(\"Total Test wasp Images\",num_wasp_test)\n",
        "print(\"Total Test other Images\", num_other_test)\n",
        "print(\"Total Test insect Images\",num_insect_test)\n",
        "total_train = num_bee_train+num_wasp_train+num_other_train+num_insect_train\n",
        "total_test = num_bee_test+num_wasp_test+num_other_test+num_insect_test\n",
        "print(\"--\")\n",
        "print(\"Total Training Images\",total_train)\n",
        "print(\"Total Testing Images\",total_test)"
      ]
    },
    {
      "cell_type": "code",
      "execution_count": 10,
      "metadata": {
        "id": "NxHHKOgL5VEo"
      },
      "outputs": [],
      "source": [
        "IMG_SHAPE  = 224\n",
        "batch_size = 32"
      ]
    },
    {
      "cell_type": "code",
      "execution_count": 11,
      "metadata": {
        "colab": {
          "base_uri": "https://localhost:8080/"
        },
        "id": "VAyTMCUd5Z8K",
        "outputId": "c66585e3-0f91-436d-a6f3-076aaf54b216"
      },
      "outputs": [
        {
          "output_type": "stream",
          "name": "stdout",
          "text": [
            "Found 9134 images belonging to 4 classes.\n",
            "Found 2287 images belonging to 4 classes.\n"
          ]
        }
      ],
      "source": [
        "image_gen_train = ImageDataGenerator(rescale = 1./255)\n",
        "train_data_gen = image_gen_train.flow_from_directory(batch_size = batch_size,\n",
        "directory = train_dir,\n",
        "shuffle= True,\n",
        "target_size = (IMG_SHAPE,IMG_SHAPE),\n",
        "class_mode = 'binary')\n",
        "image_gen_test = ImageDataGenerator(rescale=1./255)\n",
        "test_data_gen = image_gen_test.flow_from_directory(batch_size=batch_size,\n",
        "directory=test_dir,\n",
        "target_size=(IMG_SHAPE, IMG_SHAPE),\n",
        "class_mode='binary')"
      ]
    },
    {
      "cell_type": "code",
      "execution_count": 12,
      "metadata": {
        "colab": {
          "base_uri": "https://localhost:8080/"
        },
        "id": "mOhrkgWW5zFY",
        "outputId": "6537a22a-45e1-4c45-b128-39c70431ed87"
      },
      "outputs": [
        {
          "output_type": "stream",
          "name": "stdout",
          "text": [
            "Downloading data from https://storage.googleapis.com/tensorflow/keras-applications/vgg16/vgg16_weights_tf_dim_ordering_tf_kernels_notop.h5\n",
            "58889256/58889256 [==============================] - 4s 0us/step\n"
          ]
        }
      ],
      "source": [
        "pre_trained_model = tf.keras.applications.VGG16(input_shape=(224, 224, 3), include_top=False, weights=\"imagenet\")\n",
        "#Could be useless since i wont freez the layers"
      ]
    },
    {
      "cell_type": "code",
      "execution_count": 13,
      "metadata": {
        "colab": {
          "base_uri": "https://localhost:8080/"
        },
        "id": "n_JFI2dz534D",
        "outputId": "0ce5e8e0-9ab2-4840-c828-932f5b8ffdc9"
      },
      "outputs": [
        {
          "output_type": "stream",
          "name": "stdout",
          "text": [
            "input_1\n",
            "block1_conv1\n",
            "block1_conv2\n",
            "block1_pool\n",
            "block2_conv1\n",
            "block2_conv2\n",
            "block2_pool\n",
            "block3_conv1\n",
            "block3_conv2\n",
            "block3_conv3\n",
            "block3_pool\n",
            "block4_conv1\n",
            "block4_conv2\n",
            "block4_conv3\n",
            "block4_pool\n",
            "block5_conv1\n",
            "block5_conv2\n",
            "block5_conv3\n",
            "block5_pool\n"
          ]
        }
      ],
      "source": [
        "# for layer in pre_trained_model.layers:\n",
        "#   print(layer.name)\n",
        "#   layer.trainable = False"
      ]
    },
    {
      "cell_type": "code",
      "execution_count": 13,
      "metadata": {
        "id": "G0qiDhA26J2a"
      },
      "outputs": [],
      "source": [
        "last_layer = pre_trained_model.get_layer('block5_pool')\n",
        "last_output = last_layer.output\n",
        "x = tf.keras.layers.GlobalMaxPooling2D()(last_output)\n",
        "x = tf.keras.layers.Dropout(0.5)(x)\n",
        "x = tf.keras.layers.Dense(4, activation='softmax')(x)"
      ]
    },
    {
      "cell_type": "code",
      "execution_count": 14,
      "metadata": {
        "id": "dx64-EVN7Fhq"
      },
      "outputs": [],
      "source": [
        "model = tf.keras.Model(pre_trained_model.input, x)"
      ]
    },
    {
      "cell_type": "code",
      "execution_count": 15,
      "metadata": {
        "id": "NykvHnw37INA"
      },
      "outputs": [],
      "source": [
        "model.compile(optimizer='adam', loss=tf.keras.losses.sparse_categorical_crossentropy, metrics=['acc'])"
      ]
    },
    {
      "cell_type": "code",
      "execution_count": 16,
      "metadata": {
        "colab": {
          "base_uri": "https://localhost:8080/"
        },
        "id": "EDMP7Xxi7ThM",
        "outputId": "e562a63d-9bb7-4248-b7b2-aff9a153552f"
      },
      "outputs": [
        {
          "output_type": "stream",
          "name": "stdout",
          "text": [
            "Model: \"model\"\n",
            "_________________________________________________________________\n",
            " Layer (type)                Output Shape              Param #   \n",
            "=================================================================\n",
            " input_1 (InputLayer)        [(None, 224, 224, 3)]     0         \n",
            "                                                                 \n",
            " block1_conv1 (Conv2D)       (None, 224, 224, 64)      1792      \n",
            "                                                                 \n",
            " block1_conv2 (Conv2D)       (None, 224, 224, 64)      36928     \n",
            "                                                                 \n",
            " block1_pool (MaxPooling2D)  (None, 112, 112, 64)      0         \n",
            "                                                                 \n",
            " block2_conv1 (Conv2D)       (None, 112, 112, 128)     73856     \n",
            "                                                                 \n",
            " block2_conv2 (Conv2D)       (None, 112, 112, 128)     147584    \n",
            "                                                                 \n",
            " block2_pool (MaxPooling2D)  (None, 56, 56, 128)       0         \n",
            "                                                                 \n",
            " block3_conv1 (Conv2D)       (None, 56, 56, 256)       295168    \n",
            "                                                                 \n",
            " block3_conv2 (Conv2D)       (None, 56, 56, 256)       590080    \n",
            "                                                                 \n",
            " block3_conv3 (Conv2D)       (None, 56, 56, 256)       590080    \n",
            "                                                                 \n",
            " block3_pool (MaxPooling2D)  (None, 28, 28, 256)       0         \n",
            "                                                                 \n",
            " block4_conv1 (Conv2D)       (None, 28, 28, 512)       1180160   \n",
            "                                                                 \n",
            " block4_conv2 (Conv2D)       (None, 28, 28, 512)       2359808   \n",
            "                                                                 \n",
            " block4_conv3 (Conv2D)       (None, 28, 28, 512)       2359808   \n",
            "                                                                 \n",
            " block4_pool (MaxPooling2D)  (None, 14, 14, 512)       0         \n",
            "                                                                 \n",
            " block5_conv1 (Conv2D)       (None, 14, 14, 512)       2359808   \n",
            "                                                                 \n",
            " block5_conv2 (Conv2D)       (None, 14, 14, 512)       2359808   \n",
            "                                                                 \n",
            " block5_conv3 (Conv2D)       (None, 14, 14, 512)       2359808   \n",
            "                                                                 \n",
            " block5_pool (MaxPooling2D)  (None, 7, 7, 512)         0         \n",
            "                                                                 \n",
            " global_max_pooling2d (Globa  (None, 512)              0         \n",
            " lMaxPooling2D)                                                  \n",
            "                                                                 \n",
            " dropout (Dropout)           (None, 512)               0         \n",
            "                                                                 \n",
            " dense (Dense)               (None, 4)                 2052      \n",
            "                                                                 \n",
            "=================================================================\n",
            "Total params: 14,716,740\n",
            "Trainable params: 14,716,740\n",
            "Non-trainable params: 0\n",
            "_________________________________________________________________\n"
          ]
        }
      ],
      "source": [
        "model.summary()"
      ]
    },
    {
      "cell_type": "code",
      "execution_count": 17,
      "metadata": {
        "id": "mH_nW-w8grwf"
      },
      "outputs": [],
      "source": [
        "checkpoint_path = '/content/gdrive/MyDrive/Classifier project/vgg16_model_bee'"
      ]
    },
    {
      "cell_type": "code",
      "execution_count": 22,
      "metadata": {
        "id": "5Rc7q4mI0czt"
      },
      "outputs": [],
      "source": [
        "\n",
        "# checkpoint = ModelCheckpoint(checkpoint_path,\n",
        "#                              monitor='val_loss',\n",
        "#                              save_best_only=False,\n",
        "#                              mode='min', verbose=1)"
      ]
    },
    {
      "cell_type": "code",
      "execution_count": 18,
      "metadata": {
        "colab": {
          "base_uri": "https://localhost:8080/"
        },
        "id": "8H61Mnvy1589",
        "outputId": "4c9aeda4-3b00-437f-9b94-795f2281a268"
      },
      "outputs": [
        {
          "output_type": "stream",
          "name": "stdout",
          "text": [
            "Epoch 1/10\n",
            "285/285 [==============================] - 154s 445ms/step - loss: 1.2345 - acc: 0.4789 - val_loss: 1.0585 - val_acc: 0.5607\n",
            "Epoch 2/10\n",
            "285/285 [==============================] - 120s 421ms/step - loss: 1.0442 - acc: 0.5767 - val_loss: 1.0215 - val_acc: 0.5647\n",
            "Epoch 3/10\n",
            "285/285 [==============================] - 131s 460ms/step - loss: 1.0040 - acc: 0.5998 - val_loss: 0.9412 - val_acc: 0.6175\n",
            "Epoch 4/10\n",
            "285/285 [==============================] - 120s 419ms/step - loss: 0.9356 - acc: 0.6322 - val_loss: 0.8984 - val_acc: 0.6562\n",
            "Epoch 5/10\n",
            "285/285 [==============================] - 121s 423ms/step - loss: 0.9227 - acc: 0.6416 - val_loss: 0.8462 - val_acc: 0.6673\n",
            "Epoch 6/10\n",
            "285/285 [==============================] - 120s 422ms/step - loss: 0.8511 - acc: 0.6635 - val_loss: 0.9102 - val_acc: 0.6589\n",
            "Epoch 7/10\n",
            "285/285 [==============================] - 120s 422ms/step - loss: 0.8208 - acc: 0.6806 - val_loss: 0.7370 - val_acc: 0.7196\n",
            "Epoch 8/10\n",
            "285/285 [==============================] - 131s 459ms/step - loss: 0.7828 - acc: 0.6938 - val_loss: 0.7714 - val_acc: 0.6919\n",
            "Epoch 9/10\n",
            "285/285 [==============================] - 120s 421ms/step - loss: 0.7530 - acc: 0.7065 - val_loss: 0.6814 - val_acc: 0.7337\n",
            "Epoch 10/10\n",
            "285/285 [==============================] - 121s 424ms/step - loss: 0.7300 - acc: 0.7119 - val_loss: 0.6808 - val_acc: 0.7320\n"
          ]
        }
      ],
      "source": [
        "# Initial run\n",
        "vgg_classifier = model.fit(train_data_gen,\n",
        "steps_per_epoch=(total_train//(batch_size)),\n",
        "epochs = 10,\n",
        "validation_data=test_data_gen,\n",
        "validation_steps=(total_test//(batch_size)),\n",
        "batch_size = batch_size)\n",
        "# batch_size = batch_size,callbacks=[checkpoint])"
      ]
    },
    {
      "cell_type": "code",
      "source": [
        "model.save('/content/gdrive/MyDrive/Classifier project/vgg16_model_bee')"
      ],
      "metadata": {
        "colab": {
          "base_uri": "https://localhost:8080/"
        },
        "id": "3ePBWNIOArqa",
        "outputId": "da245338-aa98-4b0e-8716-46ddbd4da366"
      },
      "execution_count": 20,
      "outputs": [
        {
          "output_type": "stream",
          "name": "stderr",
          "text": [
            "WARNING:absl:Found untraced functions such as _jit_compiled_convolution_op, _jit_compiled_convolution_op, _jit_compiled_convolution_op, _jit_compiled_convolution_op, _jit_compiled_convolution_op while saving (showing 5 of 13). These functions will not be directly callable after loading.\n"
          ]
        }
      ]
    },
    {
      "cell_type": "code",
      "execution_count": 21,
      "metadata": {
        "colab": {
          "base_uri": "https://localhost:8080/"
        },
        "id": "ShIGVvrBRVxd",
        "outputId": "57c96f0f-723c-4475-e8d8-95b7568ce35a"
      },
      "outputs": [
        {
          "output_type": "execute_result",
          "data": {
            "text/plain": [
              "<tensorflow.python.checkpoint.checkpoint.CheckpointLoadStatus at 0x7b39f71d0bb0>"
            ]
          },
          "metadata": {},
          "execution_count": 21
        }
      ],
      "source": [
        "# Only run when resuming !!\n",
        "model.load_weights(\"/content/gdrive/MyDrive/Classifier project/vgg16_model_bee\")\n"
      ]
    },
    {
      "cell_type": "code",
      "source": [
        "#Resumed Run\n",
        "vgg_classifier = model.fit(train_data_gen,\n",
        "          batch_size=batch_size,\n",
        "          steps_per_epoch=(total_train//(batch_size)),\n",
        "          initial_epoch=10,\n",
        "          epochs=30,\n",
        "          validation_data=test_data_gen,\n",
        "          validation_steps=(total_test//(batch_size)))"
      ],
      "metadata": {
        "colab": {
          "base_uri": "https://localhost:8080/"
        },
        "id": "vCNLe4XrAkn_",
        "outputId": "d023364c-01e7-4be2-e80a-29254b51b30d"
      },
      "execution_count": 23,
      "outputs": [
        {
          "output_type": "stream",
          "name": "stdout",
          "text": [
            "Epoch 11/30\n",
            "285/285 [==============================] - 121s 423ms/step - loss: 0.6858 - acc: 0.7363 - val_loss: 0.6513 - val_acc: 0.7685\n",
            "Epoch 12/30\n",
            "285/285 [==============================] - 119s 416ms/step - loss: 0.6651 - acc: 0.7392 - val_loss: 0.6938 - val_acc: 0.7526\n",
            "Epoch 13/30\n",
            "285/285 [==============================] - 120s 421ms/step - loss: 0.6479 - acc: 0.7517 - val_loss: 0.6073 - val_acc: 0.7724\n",
            "Epoch 14/30\n",
            "285/285 [==============================] - 118s 415ms/step - loss: 0.6159 - acc: 0.7643 - val_loss: 0.5860 - val_acc: 0.7777\n",
            "Epoch 15/30\n",
            "285/285 [==============================] - 120s 420ms/step - loss: 0.6121 - acc: 0.7692 - val_loss: 0.5614 - val_acc: 0.7927\n",
            "Epoch 16/30\n",
            "285/285 [==============================] - 118s 415ms/step - loss: 0.5788 - acc: 0.7788 - val_loss: 0.5616 - val_acc: 0.7887\n",
            "Epoch 17/30\n",
            "285/285 [==============================] - 118s 413ms/step - loss: 0.5452 - acc: 0.7999 - val_loss: 0.5664 - val_acc: 0.8028\n",
            "Epoch 18/30\n",
            "285/285 [==============================] - 118s 414ms/step - loss: 0.5266 - acc: 0.8054 - val_loss: 0.5602 - val_acc: 0.7914\n",
            "Epoch 19/30\n",
            "285/285 [==============================] - 118s 414ms/step - loss: 0.4981 - acc: 0.8109 - val_loss: 0.4867 - val_acc: 0.8213\n",
            "Epoch 20/30\n",
            "285/285 [==============================] - 118s 414ms/step - loss: 0.4838 - acc: 0.8239 - val_loss: 0.4704 - val_acc: 0.8248\n",
            "Epoch 21/30\n",
            "285/285 [==============================] - 118s 414ms/step - loss: 0.4538 - acc: 0.8339 - val_loss: 0.4553 - val_acc: 0.8490\n",
            "Epoch 22/30\n",
            "285/285 [==============================] - 118s 413ms/step - loss: 0.4364 - acc: 0.8389 - val_loss: 0.4481 - val_acc: 0.8380\n",
            "Epoch 23/30\n",
            "285/285 [==============================] - 119s 419ms/step - loss: 0.4265 - acc: 0.8464 - val_loss: 0.4338 - val_acc: 0.8420\n",
            "Epoch 24/30\n",
            "285/285 [==============================] - 118s 413ms/step - loss: 0.4260 - acc: 0.8473 - val_loss: 0.4935 - val_acc: 0.8305\n",
            "Epoch 25/30\n",
            "285/285 [==============================] - 119s 419ms/step - loss: 0.4070 - acc: 0.8478 - val_loss: 0.4330 - val_acc: 0.8574\n",
            "Epoch 26/30\n",
            "285/285 [==============================] - 120s 419ms/step - loss: 0.3607 - acc: 0.8700 - val_loss: 0.4570 - val_acc: 0.8534\n",
            "Epoch 27/30\n",
            "285/285 [==============================] - 118s 414ms/step - loss: 0.4463 - acc: 0.8390 - val_loss: 0.4836 - val_acc: 0.8468\n",
            "Epoch 28/30\n",
            "285/285 [==============================] - 120s 420ms/step - loss: 0.3493 - acc: 0.8718 - val_loss: 0.5716 - val_acc: 0.8112\n",
            "Epoch 29/30\n",
            "285/285 [==============================] - 119s 419ms/step - loss: 0.4074 - acc: 0.8474 - val_loss: 0.4698 - val_acc: 0.8407\n",
            "Epoch 30/30\n",
            "285/285 [==============================] - 118s 413ms/step - loss: 0.3362 - acc: 0.8775 - val_loss: 0.4808 - val_acc: 0.8411\n"
          ]
        }
      ]
    },
    {
      "cell_type": "code",
      "source": [
        "import matplotlib.pyplot as plt\n",
        "plt.plot(vgg_classifier.history[\"acc\"])\n",
        "plt.plot(vgg_classifier.history['val_acc'])\n",
        "plt.plot(vgg_classifier.history['loss'])\n",
        "plt.plot(vgg_classifier.history['val_loss'])\n",
        "plt.title(\"model accuracy\")\n",
        "plt.ylabel(\"Accuracy\")\n",
        "plt.xlabel(\"Epoch\")\n",
        "plt.legend([\"Accuracy\",\"Validation Accuracy\",\"loss\",\"Validation Loss\"])\n",
        "plt.show()"
      ],
      "metadata": {
        "colab": {
          "base_uri": "https://localhost:8080/",
          "height": 472
        },
        "id": "WIAYDEOEEUlA",
        "outputId": "5ebf26b1-8dbc-40cf-a4bf-648574b296d2"
      },
      "execution_count": 24,
      "outputs": [
        {
          "output_type": "display_data",
          "data": {
            "text/plain": [
              "<Figure size 640x480 with 1 Axes>"
            ],
            "image/png": "[encoded data removed]"
          },
          "metadata": {}
        }
      ]
    },
    {
      "cell_type": "code",
      "source": [
        "from tensorflow.keras.preprocessing import image as img\n",
        "def testing_image(image_directory): #testing out our model\n",
        "    test_image = img.load_img(image_directory, target_size = (224, 224))\n",
        "    test_image = img.img_to_array(test_image)\n",
        "    test_image = np.expand_dims(test_image, axis = 0)\n",
        "    result = model.predict(x = test_image)\n",
        "    print(result)\n",
        "    if result[0][2]==max(result[0]):\n",
        "        print('Other than insects')\n",
        "    elif result[0][1]==max(result[0]):\n",
        "        print('Insects')\n",
        "    elif result[0][0]==max(result[0]):\n",
        "        print('Bees')\n",
        "    else:\n",
        "        print('wasps')"
      ],
      "metadata": {
        "id": "JkW53E-LfaDA"
      },
      "execution_count": null,
      "outputs": []
    },
    {
      "cell_type": "code",
      "source": [
        "model.evaluate(test_data_gen)"
      ],
      "metadata": {
        "colab": {
          "base_uri": "https://localhost:8080/"
        },
        "id": "bb6BFqFlg6GV",
        "outputId": "9b6762f3-db95-4996-8c31-395d26e1012d"
      },
      "execution_count": 25,
      "outputs": [
        {
          "output_type": "stream",
          "name": "stdout",
          "text": [
            "72/72 [==============================] - 11s 153ms/step - loss: 0.4784 - acc: 0.8417\n"
          ]
        },
        {
          "output_type": "execute_result",
          "data": {
            "text/plain": [
              "[0.4783913195133209, 0.8417140245437622]"
            ]
          },
          "metadata": {},
          "execution_count": 25
        }
      ]
    },
    {
      "cell_type": "code",
      "source": [
        "testing_image('/content/kaggle_bee_vs_wasp/other_noinsect/501323.jpg')"
      ],
      "metadata": {
        "id": "cxr273S1BhQd"
      },
      "execution_count": null,
      "outputs": []
    }
  ],
  "metadata": {
    "colab": {
      "provenance": [],
      "gpuType": "T4",
      "authorship_tag": "ABX9TyOhGr7MkTNQEwegZqyl9WZ1",
      "include_colab_link": true
    },
    "kernelspec": {
      "display_name": "Python 3",
      "name": "python3"
    },
    "language_info": {
      "name": "python"
    },
    "accelerator": "GPU"
  },
  "nbformat": 4,
  "nbformat_minor": 0
}